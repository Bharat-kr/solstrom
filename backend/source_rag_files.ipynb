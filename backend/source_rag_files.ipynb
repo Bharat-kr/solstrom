{
 "cells": [
  {
   "cell_type": "markdown",
   "metadata": {},
   "source": [
    "### File1\n",
    "\n",
    "Source - https://arena.colosseum.org/projects/explore \n",
    "\n",
    "Source name - Radar section of explore projects in arena.colosseum.org/projects/explore section"
   ]
  },
  {
   "cell_type": "markdown",
   "metadata": {},
   "source": [
    "curl --location 'https://api.colosseum.org/api/projects?hackathonId=3&limit=3000&offset=0&showWinnersOnly=false&sort=RANDOM&seed=7d612129abbdc8f6' \\\n",
    "--header 'accept: */*' \\\n",
    "--header 'accept-language: en-GB,en;q=0.5' \\\n",
    "--header 'content-type: application/json' \\\n",
    "--header 'origin: https://arena.colosseum.org' \\\n",
    "--header 'priority: u=1, i' \\\n",
    "--header 'referer: https://arena.colosseum.org/' \\\n",
    "--header 'rid: anti-csrf' \\\n",
    "--header 'sec-ch-ua: \"Chromium\";v=\"136\", \"Brave\";v=\"136\", \"Not.A/Brand\";v=\"99\"' \\\n",
    "--header 'sec-ch-ua-mobile: ?0' \\\n",
    "--header 'sec-ch-ua-platform: \"macOS\"' \\\n",
    "--header 'sec-fetch-dest: empty' \\\n",
    "--header 'sec-fetch-mode: cors' \\\n",
    "--header 'sec-fetch-site: same-site' \\\n",
    "--header 'sec-gpc: 1' \\\n",
    "--header 'st-auth-mode: cookie' \\\n",
    "--header 'user-agent: Mozilla/5.0 (Macintosh; Intel Mac OS X 10_15_7) AppleWebKit/537.36 (KHTML, like Gecko) Chrome/136.0.0.0 Safari/537.36' \\\n",
    "--header 'Cookie: cf_clearance=vD82Gbfio8IB.dOtmT4lvvp90BAOx2nqiF3emt7YTiA-1745290456-1.2.1.1-KortKm4ucrWT7opWC2ybp5s53_nnsexLMTyHEg.pf6uQlIHucPbHa5T05dW09_RGxDYOheoMKm_oqRP59G9w_7mC97_DCud5LEi2RzJ2EhQKZqZ1tHe_GShIAsn.hQylxHWxUXJsQkRLyPn9QVwAP5CxhoaqKqidRPL7hksrvFkMLEUhqo_PMxhKJJZ_W8Gdw0F6uG9QX4bh_APPkIhgl_kv3k33mOJxXrEVTfit8eh3ieminzHeL3kU_tA96uZNPgyDjQoGL6yyKtA56ZSgLYkaMkEFO5N_yTSK7.OODD0AGziKK9wVCeogeegJIBvYYpi7jHET_PDm6tan2AffMZSXNyx6ps47zEIyT7BSetY; sAccessToken=eyJraWQiOiJkLTE3NDYxMTc4NTA1NjgiLCJ0eXAiOiJKV1QiLCJ2ZXJzaW9uIjoiNCIsImFsZyI6IlJTMjU2In0.eyJpYXQiOjE3NDY2MzM1MzksImV4cCI6MTc0NjY3NjM5MSwic3ViIjoiZGU2MzE0YTgtZjk3Ni00Y2Q3LTkxMDItNzQ4MTZjYWExZDM3IiwidElkIjoicHVibGljIiwic2Vzc2lvbkhhbmRsZSI6IjM2NjJjYTgwLTM2MTAtNDljOC1hMzdkLTYzNWNlZDNhMjcxOSIsInJlZnJlc2hUb2tlbkhhc2gxIjoiOThhYTRhNTI3ZGMwNWZkOTc1Yjg0ZmUyNmJjZjg3ZWM3OGM1YzU5MGI2ZmNlZThkYThkZDNiYWIxZWI5YzAwNCIsInBhcmVudFJlZnJlc2hUb2tlbkhhc2gxIjpudWxsLCJhbnRpQ3NyZlRva2VuIjpudWxsLCJpc3MiOiJodHRwczovL2FwaS5jb2xvc3NldW0ub3JnL2F1dGgiLCJzdC1ldiI6eyJ2Ijp0cnVlLCJ0IjoxNzQ2NjMzNTM5NzA5fSwiX2ludGVybmFsX3VzZXJfaWQiOjMwMjAyLCJfZW1haWwiOiJiYWxhbmFndXlhc2h3YW50aEBnbWFpbC5jb20iLCJfdXNlcm5hbWUiOiJieWFzaCIsIl9kaXNwbGF5X25hbWUiOiJ5YXNod2FudGgiLCJfb25ib2FyZGluZ19jb21wbGV0ZSI6dHJ1ZSwiX2FncmVlbWVudF9jb21wbGV0ZSI6dHJ1ZSwiX2F2YXRhcl91cmwiOiIiLCJfYWNjb3VudF9yb2xlcyI6W10sIl9hY2NlbGVyYXRvcl9iYXRjaGVzIjpbXSwiX3Byb2ZpbGVfY29tcGxldGUiOnRydWV9.dJECtjTznpn7rSj2s4TIgsPp2fw8XVZ_HeNwZthsub9gX4it998mPXKn_f3fazHZXj_Hf1beSnHot3u-pJWHaXwErbg3i3_JGEV9c36D6-vvlFBp1W6L0IKRLoZ6v1dh8WWSYVf4kSXB60Blf0yxQ6P84rPAIu6Kf0IV0Ct00rfgSbBbs4cOUYeHJ9aSsyPGcwaAl7Q_4vaz5O5bJs2iDL7Uttm-KJyXBsCIQo7ObFgGkr_tEW4oGMrkQrZ-43rV1IBNkEQ3IQBQbPla8f18QieT5EmEXOR6AMIyBYh6LnuBZwZWvmVfXUUq9iu8Lx7bXOlCNawj1aJIojXrq4rnSg'"
   ]
  },
  {
   "cell_type": "code",
   "execution_count": null,
   "metadata": {
    "vscode": {
     "languageId": "plaintext"
    }
   },
   "outputs": [],
   "source": []
  },
  {
   "cell_type": "markdown",
   "metadata": {},
   "source": [
    "### File 2\n",
    "\n",
    "Source url - https://arena.colosseum.org/projects/explore\n",
    "\n",
    "Source name - Renaissance section of explore project in https://arena.colosseum.org/projects/explore page"
   ]
  },
  {
   "cell_type": "markdown",
   "metadata": {},
   "source": [
    "curl --location 'https://api.colosseum.org/api/projects?hackathonId=2&limit=3000&offset=0&showWinnersOnly=false&sort=RANDOM&seed=7d612129abbdc8f6' \\\n",
    "--header 'accept: */*' \\\n",
    "--header 'accept-language: en-GB,en;q=0.5' \\\n",
    "--header 'content-type: application/json' \\\n",
    "--header 'origin: https://arena.colosseum.org' \\\n",
    "--header 'priority: u=1, i' \\\n",
    "--header 'referer: https://arena.colosseum.org/' \\\n",
    "--header 'rid: anti-csrf' \\\n",
    "--header 'sec-ch-ua: \"Chromium\";v=\"136\", \"Brave\";v=\"136\", \"Not.A/Brand\";v=\"99\"' \\\n",
    "--header 'sec-ch-ua-mobile: ?0' \\\n",
    "--header 'sec-ch-ua-platform: \"macOS\"' \\\n",
    "--header 'sec-fetch-dest: empty' \\\n",
    "--header 'sec-fetch-mode: cors' \\\n",
    "--header 'sec-fetch-site: same-site' \\\n",
    "--header 'sec-gpc: 1' \\\n",
    "--header 'st-auth-mode: cookie' \\\n",
    "--header 'user-agent: Mozilla/5.0 (Macintosh; Intel Mac OS X 10_15_7) AppleWebKit/537.36 (KHTML, like Gecko) Chrome/136.0.0.0 Safari/537.36' \\\n",
    "--header 'Cookie: cf_clearance=vD82Gbfio8IB.dOtmT4lvvp90BAOx2nqiF3emt7YTiA-1745290456-1.2.1.1-KortKm4ucrWT7opWC2ybp5s53_nnsexLMTyHEg.pf6uQlIHucPbHa5T05dW09_RGxDYOheoMKm_oqRP59G9w_7mC97_DCud5LEi2RzJ2EhQKZqZ1tHe_GShIAsn.hQylxHWxUXJsQkRLyPn9QVwAP5CxhoaqKqidRPL7hksrvFkMLEUhqo_PMxhKJJZ_W8Gdw0F6uG9QX4bh_APPkIhgl_kv3k33mOJxXrEVTfit8eh3ieminzHeL3kU_tA96uZNPgyDjQoGL6yyKtA56ZSgLYkaMkEFO5N_yTSK7.OODD0AGziKK9wVCeogeegJIBvYYpi7jHET_PDm6tan2AffMZSXNyx6ps47zEIyT7BSetY; sAccessToken=eyJraWQiOiJkLTE3NDYxMTc4NTA1NjgiLCJ0eXAiOiJKV1QiLCJ2ZXJzaW9uIjoiNCIsImFsZyI6IlJTMjU2In0.eyJpYXQiOjE3NDY2MzQ1MDAsImV4cCI6MTc0NjY3NjM5MSwic3ViIjoiZGU2MzE0YTgtZjk3Ni00Y2Q3LTkxMDItNzQ4MTZjYWExZDM3IiwidElkIjoicHVibGljIiwic2Vzc2lvbkhhbmRsZSI6IjM2NjJjYTgwLTM2MTAtNDljOC1hMzdkLTYzNWNlZDNhMjcxOSIsInJlZnJlc2hUb2tlbkhhc2gxIjoiOThhYTRhNTI3ZGMwNWZkOTc1Yjg0ZmUyNmJjZjg3ZWM3OGM1YzU5MGI2ZmNlZThkYThkZDNiYWIxZWI5YzAwNCIsInBhcmVudFJlZnJlc2hUb2tlbkhhc2gxIjpudWxsLCJhbnRpQ3NyZlRva2VuIjpudWxsLCJpc3MiOiJodHRwczovL2FwaS5jb2xvc3NldW0ub3JnL2F1dGgiLCJzdC1ldiI6eyJ2Ijp0cnVlLCJ0IjoxNzQ2NjM0NTAwMDY2fSwiX2ludGVybmFsX3VzZXJfaWQiOjMwMjAyLCJfZW1haWwiOiJiYWxhbmFndXlhc2h3YW50aEBnbWFpbC5jb20iLCJfdXNlcm5hbWUiOiJieWFzaCIsIl9kaXNwbGF5X25hbWUiOiJ5YXNod2FudGgiLCJfb25ib2FyZGluZ19jb21wbGV0ZSI6dHJ1ZSwiX2FncmVlbWVudF9jb21wbGV0ZSI6dHJ1ZSwiX2F2YXRhcl91cmwiOiIiLCJfYWNjb3VudF9yb2xlcyI6W10sIl9hY2NlbGVyYXRvcl9iYXRjaGVzIjpbXSwiX3Byb2ZpbGVfY29tcGxldGUiOnRydWV9.geXij5XhdFuXs3wgsxbz-pZHyAnWJFQpT4TfqPeI3TI9O5NYJvJFCDUonywLT2GRcNK8CcGyqpgnMbq33VKAeQOKS3uz6uDQn1C7B52R-YTQ5naaCkfqltR6muSzBg_JdyL-6FBlgsoVw1gzxhSHPw3XMmPmlu8RxjHFcIUkB83m83EAj6oQqZr769oeD420BWuJ5jhhGp82E7uKRLtHmL2U4kUVPsV-re2JhnIEytN06-uIj9htdliHFvJKPhQJxibLCW53-q2BrFNnVq1RrxP1iA5ZYGo9ipp8Iw_faPz_Vcz2wePxK8OSUoqv6NdBkKisA8caSwjIAIHM9cFZMA'"
   ]
  },
  {
   "cell_type": "markdown",
   "metadata": {},
   "source": []
  },
  {
   "cell_type": "markdown",
   "metadata": {},
   "source": [
    "### File 3\n",
    "\n",
    "Source url - https://arena.colosseum.org/hackathon/hall-of-fame\n",
    "\n",
    "Source name - hall-of-fame of arena.colosseum.org section"
   ]
  },
  {
   "cell_type": "markdown",
   "metadata": {},
   "source": [
    "curl --location 'https://api.colosseum.org/api/hackathon/hall-of-fame' \\\n",
    "--header 'accept: */*' \\\n",
    "--header 'accept-language: en-GB,en;q=0.5' \\\n",
    "--header 'content-type: application/json' \\\n",
    "--header 'origin: https://arena.colosseum.org' \\\n",
    "--header 'priority: u=1, i' \\\n",
    "--header 'referer: https://arena.colosseum.org/' \\\n",
    "--header 'rid: anti-csrf' \\\n",
    "--header 'sec-ch-ua: \"Chromium\";v=\"136\", \"Brave\";v=\"136\", \"Not.A/Brand\";v=\"99\"' \\\n",
    "--header 'sec-ch-ua-mobile: ?0' \\\n",
    "--header 'sec-ch-ua-platform: \"macOS\"' \\\n",
    "--header 'sec-fetch-dest: empty' \\\n",
    "--header 'sec-fetch-mode: cors' \\\n",
    "--header 'sec-fetch-site: same-site' \\\n",
    "--header 'sec-gpc: 1' \\\n",
    "--header 'st-auth-mode: cookie' \\\n",
    "--header 'user-agent: Mozilla/5.0 (Macintosh; Intel Mac OS X 10_15_7) AppleWebKit/537.36 (KHTML, like Gecko) Chrome/136.0.0.0 Safari/537.36' \\\n",
    "--header 'Cookie: cf_clearance=vD82Gbfio8IB.dOtmT4lvvp90BAOx2nqiF3emt7YTiA-1745290456-1.2.1.1-KortKm4ucrWT7opWC2ybp5s53_nnsexLMTyHEg.pf6uQlIHucPbHa5T05dW09_RGxDYOheoMKm_oqRP59G9w_7mC97_DCud5LEi2RzJ2EhQKZqZ1tHe_GShIAsn.hQylxHWxUXJsQkRLyPn9QVwAP5CxhoaqKqidRPL7hksrvFkMLEUhqo_PMxhKJJZ_W8Gdw0F6uG9QX4bh_APPkIhgl_kv3k33mOJxXrEVTfit8eh3ieminzHeL3kU_tA96uZNPgyDjQoGL6yyKtA56ZSgLYkaMkEFO5N_yTSK7.OODD0AGziKK9wVCeogeegJIBvYYpi7jHET_PDm6tan2AffMZSXNyx6ps47zEIyT7BSetY; sAccessToken=eyJraWQiOiJkLTE3NDYxMTc4NTA1NjgiLCJ0eXAiOiJKV1QiLCJ2ZXJzaW9uIjoiNCIsImFsZyI6IlJTMjU2In0.eyJpYXQiOjE3NDY2MzUxMTIsImV4cCI6MTc0NjY3NjM5MSwic3ViIjoiZGU2MzE0YTgtZjk3Ni00Y2Q3LTkxMDItNzQ4MTZjYWExZDM3IiwidElkIjoicHVibGljIiwic2Vzc2lvbkhhbmRsZSI6IjM2NjJjYTgwLTM2MTAtNDljOC1hMzdkLTYzNWNlZDNhMjcxOSIsInJlZnJlc2hUb2tlbkhhc2gxIjoiOThhYTRhNTI3ZGMwNWZkOTc1Yjg0ZmUyNmJjZjg3ZWM3OGM1YzU5MGI2ZmNlZThkYThkZDNiYWIxZWI5YzAwNCIsInBhcmVudFJlZnJlc2hUb2tlbkhhc2gxIjpudWxsLCJhbnRpQ3NyZlRva2VuIjpudWxsLCJpc3MiOiJodHRwczovL2FwaS5jb2xvc3NldW0ub3JnL2F1dGgiLCJzdC1ldiI6eyJ2Ijp0cnVlLCJ0IjoxNzQ2NjM1MTEyMDM0fSwiX2ludGVybmFsX3VzZXJfaWQiOjMwMjAyLCJfZW1haWwiOiJiYWxhbmFndXlhc2h3YW50aEBnbWFpbC5jb20iLCJfdXNlcm5hbWUiOiJieWFzaCIsIl9kaXNwbGF5X25hbWUiOiJ5YXNod2FudGgiLCJfb25ib2FyZGluZ19jb21wbGV0ZSI6dHJ1ZSwiX2FncmVlbWVudF9jb21wbGV0ZSI6dHJ1ZSwiX2F2YXRhcl91cmwiOiIiLCJfYWNjb3VudF9yb2xlcyI6W10sIl9hY2NlbGVyYXRvcl9iYXRjaGVzIjpbXSwiX3Byb2ZpbGVfY29tcGxldGUiOnRydWV9.VLB8ZkFsgIOK4-dISl0jTIk8eUPyftrh8mNmj8MU7UFsL_veQ8vxB8M-PYSRlpoGjPVX-uRoxI5AtgLVfybH7kBcNGX4sNYpaq9MBTh8aKibStx8av-wt_DIc2p_JmgiHOzQw1LeK4Z1qCtJmVkKjB8YHLiHmVUXqtcyTJKWnO_oG2WU1Qm2KUbNwvBo-4_bF7zcmV3aN7LfRQUiufK8Gigjzyv5N0eF-2DIBP1QHyOjZ7ljN3oC5r2XuNIjru0IBhTV0AOraPz-pTEoCx8SK4-50Rdm9H5bOrVUxR-B1JL0_EI6hK8WVvPv12kCuM6bb63m8I8scwTWXRjRBnQ5CA'"
   ]
  },
  {
   "cell_type": "markdown",
   "metadata": {},
   "source": []
  },
  {
   "cell_type": "markdown",
   "metadata": {},
   "source": [
    "### File 4\n",
    "\n",
    "\n",
    "Source url - https://build.superteam.fun/ideas\n",
    "Source name - ideas page of superteam website\n",
    "\n",
    "Curl -\n",
    "\n",
    "https://gist.github.com/BalanaguYashwanth/0b674af9290b138c58e9cf051a3a3c68\n"
   ]
  },
  {
   "cell_type": "markdown",
   "metadata": {},
   "source": []
  },
  {
   "cell_type": "markdown",
   "metadata": {},
   "source": [
    "### File 5\n",
    "\n",
    "Source url - https://build.superteam.fun/past-hackathon-winners/Gaming\n",
    "Source name - previous hackathon winner projects of https://build.superteam.fun website\n"
   ]
  },
  {
   "cell_type": "markdown",
   "metadata": {},
   "source": [
    "curl --location 'https://airtable.com/v0.3/view/viwalAf6wPd8PRzpt/readSharedViewData?stringifiedObjectParams=%7B%22shouldUseNestedResponseFormat%22%3Atrue%7D&requestId=reqThy7XRzDM6RIar&accessPolicy=%7B%22allowedActions%22%3A%5B%7B%22modelClassName%22%3A%22view%22%2C%22modelIdSelector%22%3A%22viwalAf6wPd8PRzpt%22%2C%22action%22%3A%22readSharedViewData%22%7D%2C%7B%22modelClassName%22%3A%22view%22%2C%22modelIdSelector%22%3A%22viwalAf6wPd8PRzpt%22%2C%22action%22%3A%22getMetadataForPrinting%22%7D%2C%7B%22modelClassName%22%3A%22view%22%2C%22modelIdSelector%22%3A%22viwalAf6wPd8PRzpt%22%2C%22action%22%3A%22readSignedAttachmentUrls%22%7D%2C%7B%22modelClassName%22%3A%22row%22%2C%22modelIdSelector%22%3A%22rows%20*%5BdisplayedInView%3DviwalAf6wPd8PRzpt%5D%22%2C%22action%22%3A%22createDocumentPreviewSession%22%7D%5D%2C%22shareId%22%3A%22shr4nOJamOEop7o2z%22%2C%22applicationId%22%3A%22appLHA9eLkMd4Yw4Y%22%2C%22generationNumber%22%3A0%2C%22expires%22%3A%222025-05-22T00%3A00%3A00.000Z%22%2C%22signature%22%3A%22e5e30a45a537fb677e981bc1a3fc23ecd730837df5daae77c1dff7b77cfb136f%22%7D' \\\n",
    "--header 'accept: */*' \\\n",
    "--header 'accept-language: en-GB,en;q=0.8' \\\n",
    "--header 'priority: u=1, i' \\\n",
    "--header 'sec-ch-ua: \"Chromium\";v=\"136\", \"Brave\";v=\"136\", \"Not.A/Brand\";v=\"99\"' \\\n",
    "--header 'sec-ch-ua-mobile: ?0' \\\n",
    "--header 'sec-ch-ua-platform: \"macOS\"' \\\n",
    "--header 'sec-fetch-dest: empty' \\\n",
    "--header 'sec-fetch-mode: cors' \\\n",
    "--header 'sec-fetch-site: same-origin' \\\n",
    "--header 'sec-fetch-storage-access: active' \\\n",
    "--header 'sec-gpc: 1' \\\n",
    "--header 'traceparent: 00-e407c97441bb9cbceae9a49ecc0042ce-a5846df1fbbf4e11-01' \\\n",
    "--header 'tracestate;' \\\n",
    "--header 'user-agent: Mozilla/5.0 (Macintosh; Intel Mac OS X 10_15_7) AppleWebKit/537.36 (KHTML, like Gecko) Chrome/136.0.0.0 Safari/537.36' \\\n",
    "--header 'x-airtable-accept-msgpack: true' \\\n",
    "--header 'x-airtable-application-id: appLHA9eLkMd4Yw4Y' \\\n",
    "--header 'x-airtable-inter-service-client: webClient' \\\n",
    "--header 'x-airtable-page-load-id: pglNCpjXkaSA63pUI' \\\n",
    "--header 'x-early-prefetch: true' \\\n",
    "--header 'x-requested-with: XMLHttpRequest' \\\n",
    "--header 'x-time-zone: Asia/Calcutta' \\\n",
    "--header 'x-user-locale: en' \\\n",
    "--header 'Cookie: brw=brwf1lAJkOgJlHNRU; __Host-airtable-session=eyJzZXNzaW9uSWQiOiJzZXNGaEJ4TFhreXRETm52SCIsImNzcmZTZWNyZXQiOiJKTmZHZjUzOW9XZThKd0RaUnF0aGtjdnUifQ==; __Host-airtable-session.sig=B-48uX_yocUitwzPsw68H2xAZcD5B4ZcfhgFCDG45t4; brwConsent=opt-in; AWSALBTGCORS=ayRE2wfM4PP2Q061uEHLtkKV9Tuk24bhpVs7JAjDiV0XZ67vIrprwCTJBQUM+22p5/OfCe5JcCEKhuO7aN8m3xaQDcW0DOID0oVwDzd0g2OCv+J1Qd1HtCnq3dpHk24vOsdk+gqIFlZ2szT+yl6RHUD04iqBDRxATEhqmdQ3xg8wnz+c5RE=; mbpg=2026-05-07T16:53:23.118Zusr0ALRaKDKp2um1Spro; mbpg.sig=Oovri5s8HFfd6-xfejV2KhFfB7ZgAF2lDvA9E8aCY4g; AWSALBTG=g4KHVpJka9OGSmwhuedASPqffVq+TGKtE0qO+cEVxuRpcqVLAKBUMp7lqipkHDYSgrVJchYP9lUYPemmk0lQmlr+Uvd6/AOm57tJ/OFrzp6931IhEIV2XD5b/nFaLrm7DtsdsJTnP7Tn+ZKrYwpiMf4mmDzB0337UEhbUI0b/hy23CESs50=; AWSALBTGCORS=g4KHVpJka9OGSmwhuedASPqffVq+TGKtE0qO+cEVxuRpcqVLAKBUMp7lqipkHDYSgrVJchYP9lUYPemmk0lQmlr+Uvd6/AOm57tJ/OFrzp6931IhEIV2XD5b/nFaLrm7DtsdsJTnP7Tn+ZKrYwpiMf4mmDzB0337UEhbUI0b/hy23CESs50=; brw=brwf1lAJkOgJlHNRU; brwConsent=opt-in; mbpg=2026-05-07T16:54:07.168Zusr0ALRaKDKp2um1Spro; mbpg.sig=FKZjy_8ifUJ4O1CFQ6wDcLLzaTCI1GhOv0BfZv7ClZM'"
   ]
  },
  {
   "cell_type": "markdown",
   "metadata": {},
   "source": []
  },
  {
   "cell_type": "markdown",
   "metadata": {},
   "source": [
    "### File 6\n",
    "\n",
    "https://gist.github.com/BalanaguYashwanth/8be67877952e1f539779fb8f912598f6"
   ]
  },
  {
   "cell_type": "markdown",
   "metadata": {},
   "source": []
  },
  {
   "cell_type": "markdown",
   "metadata": {},
   "source": [
    "### FILE 7\n",
    "\n",
    "https://drive.google.com/file/d/14sju4Syjyq7_7PXT-L-Z4mxzqKIuxB_e/view?usp=sharing"
   ]
  }
 ],
 "metadata": {
  "language_info": {
   "name": "python"
  }
 },
 "nbformat": 4,
 "nbformat_minor": 2
}
